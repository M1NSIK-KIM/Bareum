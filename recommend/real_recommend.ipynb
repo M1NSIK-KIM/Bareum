{
 "cells": [
  {
   "cell_type": "code",
   "execution_count": 53,
   "metadata": {},
   "outputs": [],
   "source": [
    "import pandas as pd\n",
    "import numpy as np\n",
    "import random\n",
    "from tqdm import tqdm\n",
    "import pickle\n",
    "from sklearn.metrics.pairwise import cosine_similarity\n",
    "from collections import deque"
   ]
  },
  {
   "cell_type": "code",
   "execution_count": 54,
   "metadata": {},
   "outputs": [],
   "source": [
    "all_df = pd.read_csv(\"total_nutrition.csv\")"
   ]
  },
  {
   "cell_type": "code",
   "execution_count": 62,
   "metadata": {},
   "outputs": [
    {
     "name": "stdout",
     "output_type": "stream",
     "text": [
      "   age  비타민C  비타민D  비타민A    칼슘  마그네슘  아연  sex_male\n",
      "0   49   584     3  2983  2929   270  11         0\n"
     ]
    }
   ],
   "source": [
    "size = 1\n",
    "genders = np.random.randint(0, 2, size=size)\n",
    "age = np.random.randint(6, 100, size=size)\n",
    "vitamin_c = np.random.randint(0, 2001, size=size)\n",
    "vitamin_d = np.random.randint(0, 101, size=size)\n",
    "vitamin_a = np.random.randint(0, 3001, size=size)\n",
    "calcium = np.random.randint(0, 3001, size=size)\n",
    "magnesium = np.random.randint(0, 351, size=size)\n",
    "zinc = np.random.randint(0, 36, size=size)\n",
    "data = {\"age\" : age,\"비타민C\": vitamin_c, \"비타민D\": vitamin_d, \"비타민A\": vitamin_a, \"칼슘\": calcium, \"마그네슘\": magnesium, \"아연\": zinc, \"sex_male\" : genders}\n",
    "\n",
    "# DataFrame 생성\n",
    "user_input_df = pd.DataFrame(data)\n",
    "user_input_df = pd.get_dummies(user_input_df)\n",
    "\n",
    "# 결과 출력\n",
    "print(user_input_df)"
   ]
  },
  {
   "cell_type": "code",
   "execution_count": 63,
   "metadata": {},
   "outputs": [],
   "source": [
    "xgb_reg = pickle.load(open(\"best_model_xgb.pkl\", \"rb\"))"
   ]
  },
  {
   "cell_type": "code",
   "execution_count": 64,
   "metadata": {},
   "outputs": [],
   "source": [
    "user_nut = xgb_reg.predict(user_input_df)"
   ]
  },
  {
   "cell_type": "code",
   "execution_count": 66,
   "metadata": {},
   "outputs": [],
   "source": [
    "lowest = float(\"inf\")\n",
    "recommend_item = deque()\n",
    "after_nut = list()\n",
    "before_nut = user_input_df.copy()\n",
    "for i in all_df.iterrows():\n",
    "    temp = i[1][[\"비타민C\",\"비타민D\",\"비타민A\",\"칼슘\",\"마그네슘\",\"아연\"]]\n",
    "    x = [temp.values]\n",
    "\n",
    "    if abs(cosine_similarity(user_nut, x))[0][0] < lowest:\n",
    "        recommend_item.append(all_df[\"name\"][i[0]])\n",
    "        if len(recommend_item) > 5: # 5개 추천\n",
    "            recommend_item.popleft()"
   ]
  },
  {
   "cell_type": "code",
   "execution_count": 67,
   "metadata": {},
   "outputs": [
    {
     "data": {
      "text/plain": [
       "deque(['흡수가 잘되는 활성 엽산800', '흡수가잘되는 엽산', '히딩크의관절생생', '히알루론산', '힐스토리 글로우업'])"
      ]
     },
     "execution_count": 67,
     "metadata": {},
     "output_type": "execute_result"
    }
   ],
   "source": [
    "recommend_item"
   ]
  },
  {
   "cell_type": "code",
   "execution_count": 48,
   "metadata": {},
   "outputs": [
    {
     "data": {
      "text/html": [
       "<div>\n",
       "<style scoped>\n",
       "    .dataframe tbody tr th:only-of-type {\n",
       "        vertical-align: middle;\n",
       "    }\n",
       "\n",
       "    .dataframe tbody tr th {\n",
       "        vertical-align: top;\n",
       "    }\n",
       "\n",
       "    .dataframe thead th {\n",
       "        text-align: right;\n",
       "    }\n",
       "</style>\n",
       "<table border=\"1\" class=\"dataframe\">\n",
       "  <thead>\n",
       "    <tr style=\"text-align: right;\">\n",
       "      <th></th>\n",
       "      <th>age</th>\n",
       "      <th>비타민C</th>\n",
       "      <th>비타민D</th>\n",
       "      <th>비타민A</th>\n",
       "      <th>칼슘</th>\n",
       "      <th>마그네슘</th>\n",
       "      <th>아연</th>\n",
       "      <th>sex_male</th>\n",
       "    </tr>\n",
       "  </thead>\n",
       "  <tbody>\n",
       "    <tr>\n",
       "      <th>0</th>\n",
       "      <td>73</td>\n",
       "      <td>1525</td>\n",
       "      <td>58</td>\n",
       "      <td>2435</td>\n",
       "      <td>1631</td>\n",
       "      <td>79</td>\n",
       "      <td>28</td>\n",
       "      <td>1</td>\n",
       "    </tr>\n",
       "  </tbody>\n",
       "</table>\n",
       "</div>"
      ],
      "text/plain": [
       "   age  비타민C  비타민D  비타민A    칼슘  마그네슘  아연  sex_male\n",
       "0   73  1525    58  2435  1631    79  28         1"
      ]
     },
     "execution_count": 48,
     "metadata": {},
     "output_type": "execute_result"
    }
   ],
   "source": [
    "user_input_df"
   ]
  },
  {
   "cell_type": "code",
   "execution_count": 47,
   "metadata": {},
   "outputs": [
    {
     "data": {
      "text/html": [
       "<div>\n",
       "<style scoped>\n",
       "    .dataframe tbody tr th:only-of-type {\n",
       "        vertical-align: middle;\n",
       "    }\n",
       "\n",
       "    .dataframe tbody tr th {\n",
       "        vertical-align: top;\n",
       "    }\n",
       "\n",
       "    .dataframe thead th {\n",
       "        text-align: right;\n",
       "    }\n",
       "</style>\n",
       "<table border=\"1\" class=\"dataframe\">\n",
       "  <thead>\n",
       "    <tr style=\"text-align: right;\">\n",
       "      <th></th>\n",
       "      <th>age</th>\n",
       "      <th>sex_male</th>\n",
       "      <th>마그네슘</th>\n",
       "      <th>비타민A</th>\n",
       "      <th>비타민C</th>\n",
       "      <th>비타민D</th>\n",
       "      <th>아연</th>\n",
       "      <th>칼슘</th>\n",
       "    </tr>\n",
       "  </thead>\n",
       "  <tbody>\n",
       "    <tr>\n",
       "      <th>0</th>\n",
       "      <td>NaN</td>\n",
       "      <td>NaN</td>\n",
       "      <td>79.0</td>\n",
       "      <td>2435.0</td>\n",
       "      <td>1625.0</td>\n",
       "      <td>58.0</td>\n",
       "      <td>28.0</td>\n",
       "      <td>1631.0</td>\n",
       "    </tr>\n",
       "  </tbody>\n",
       "</table>\n",
       "</div>"
      ],
      "text/plain": [
       "   age sex_male  마그네슘    비타민A    비타민C  비타민D    아연      칼슘\n",
       "0  NaN      NaN  79.0  2435.0  1625.0  58.0  28.0  1631.0"
      ]
     },
     "execution_count": 47,
     "metadata": {},
     "output_type": "execute_result"
    }
   ],
   "source": [
    "after_nut"
   ]
  },
  {
   "cell_type": "code",
   "execution_count": 51,
   "metadata": {},
   "outputs": [
    {
     "data": {
      "text/plain": [
       "array([[  290.70633 , -1735.8552  , -1424.6771  ,   -43.017467,\n",
       "          -19.001425,  -932.75977 ]], dtype=float32)"
      ]
     },
     "execution_count": 51,
     "metadata": {},
     "output_type": "execute_result"
    }
   ],
   "source": [
    "user_nut"
   ]
  },
  {
   "cell_type": "code",
   "execution_count": 52,
   "metadata": {},
   "outputs": [
    {
     "data": {
      "text/plain": [
       "비타민C    100.0\n",
       "비타민D      0.0\n",
       "비타민A      0.0\n",
       "칼슘        0.0\n",
       "마그네슘      0.0\n",
       "아연        0.0\n",
       "Name: 791, dtype: object"
      ]
     },
     "execution_count": 52,
     "metadata": {},
     "output_type": "execute_result"
    }
   ],
   "source": [
    "temp"
   ]
  }
 ],
 "metadata": {
  "kernelspec": {
   "display_name": "str",
   "language": "python",
   "name": "python3"
  },
  "language_info": {
   "codemirror_mode": {
    "name": "ipython",
    "version": 3
   },
   "file_extension": ".py",
   "mimetype": "text/x-python",
   "name": "python",
   "nbconvert_exporter": "python",
   "pygments_lexer": "ipython3",
   "version": "3.10.11"
  },
  "orig_nbformat": 4
 },
 "nbformat": 4,
 "nbformat_minor": 2
}
